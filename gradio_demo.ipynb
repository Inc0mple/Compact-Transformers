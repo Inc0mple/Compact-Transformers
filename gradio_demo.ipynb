{
 "cells": [
  {
   "cell_type": "code",
   "execution_count": 1,
   "id": "bbafea99-85ec-4c98-bc0f-3b36a9142197",
   "metadata": {},
   "outputs": [
    {
     "name": "stderr",
     "output_type": "stream",
     "text": [
      "/home/incomple_/anaconda3/envs/cv-env/lib/python3.9/site-packages/tqdm/auto.py:21: TqdmWarning: IProgress not found. Please update jupyter and ipywidgets. See https://ipywidgets.readthedocs.io/en/stable/user_install.html\n",
      "  from .autonotebook import tqdm as notebook_tqdm\n"
     ]
    }
   ],
   "source": [
    "import gradio as gr\n",
    "import torch\n",
    "import torchvision.transforms as transforms\n",
    "from PIL import Image\n",
    "from timm.data import resolve_data_config\n",
    "from timm.data.transforms_factory import create_transform\n",
    "from timm.models import create_model\n",
    "import yaml\n",
    "import numpy as np\n",
    "import os\n",
    "from src import cct  # Importing the cct module\n",
    "import attnmapgradio\n"
   ]
  },
  {
   "cell_type": "code",
   "execution_count": 2,
   "id": "19a6efe7-c028-47fb-ad4c-50f13217ce4d",
   "metadata": {},
   "outputs": [],
   "source": [
    "results_final_path = \"./result_final\"\n",
    "device = \"cuda\" if torch.cuda.is_available() else \"cpu\""
   ]
  },
  {
   "cell_type": "code",
   "execution_count": 3,
   "id": "d413c0ba-6981-4a80-8a6d-bdd2c95e94c9",
   "metadata": {},
   "outputs": [],
   "source": [
    "model_names = os.listdir(results_final_path)\n",
    "c10_models, c100_models = [], []\n",
    "\n",
    "for m in model_names:\n",
    "    if 'c100' in m:\n",
    "        c100_models.append(m)\n",
    "    else:\n",
    "        c10_models.append(m)\n"
   ]
  },
  {
   "cell_type": "code",
   "execution_count": 4,
   "id": "5ecaf4c4-fb90-4a3b-a77c-685910ba7e91",
   "metadata": {},
   "outputs": [],
   "source": [
    "with open('cifar10_labels.txt') as c10:\n",
    "    c10_labels = c10.read().split(',')\n",
    "\n",
    "with open('cifar100_labels.txt') as c100:\n",
    "    c100_labels = c100.read().split(',')"
   ]
  },
  {
   "cell_type": "code",
   "execution_count": 5,
   "id": "fa76e1b4-eaeb-4c16-b7dc-8ea0f91841f1",
   "metadata": {
    "scrolled": true
   },
   "outputs": [
    {
     "name": "stdout",
     "output_type": "stream",
     "text": [
      "Take note that only the following models support attention maps: ['Bryan_full_cct_6_3x1_32', 'Bryan_full_cct_7_3x1_32_c100', 'Bryan_full_cct_6_3x1_32_c100_DynEmbed', 'Bryan_full_cct_7_3x1_32_DynEmbed_TempScaleAttn']\n",
      "Running on local URL:  http://127.0.0.1:7860\n",
      "\n",
      "To create a public link, set `share=True` in `launch()`.\n"
     ]
    },
    {
     "data": {
      "text/html": [
       "<div><iframe src=\"http://127.0.0.1:7860/\" width=\"100%\" height=\"500\" allow=\"autoplay; camera; microphone; clipboard-read; clipboard-write;\" frameborder=\"0\" allowfullscreen></iframe></div>"
      ],
      "text/plain": [
       "<IPython.core.display.HTML object>"
      ]
     },
     "metadata": {},
     "output_type": "display_data"
    },
    {
     "data": {
      "text/plain": []
     },
     "execution_count": 5,
     "metadata": {},
     "output_type": "execute_result"
    },
    {
     "name": "stdout",
     "output_type": "stream",
     "text": [
      "torch.Size([1, 256, 256]) torch.Size([1, 256, 256])\n",
      "Model mapped successfully: Bryan_full_cct_7_3x1_32_c100_DynEmbed -> cct_DynEmbed_7_3x1_32\n",
      "Model mapped successfully: Bryan_full_cct_7_3x1_32_c100_SETok_fixed -> cct_SETok_7_3x1_32_c100\n",
      "Model mapped successfully: Bryan_full_cct_7_3x1_32_c100_DynEmbed_TempScaleAttnFactor -> cct_DynEmbedTempScaleAttnFactor_7_3x1_32\n",
      "Model mapped successfully: Bryan_full_cct_2_3x2_32_DynEmbed_TempScaleAttn -> cct_DynEmbedTempScaleAttn_2_3x2_32\n",
      "Model mapped successfully: Bryan_full_cct_7_3x1_32_DynEmbed -> cct_DynEmbed_7_3x1_32\n",
      "Model mapped successfully: full_cct_7_3x1_32 -> cct_7_3x1_32\n",
      "Model mapped successfully: Bryan_full_cct_2_3x2_32_c100_DynEmbed -> cct_DynEmbed_2_3x2_32_c100\n",
      "Model mapped successfully: Bryan_full_cct_6_3x1_32_DynEmbed -> cct_DynEmbed_6_3x1_32\n",
      "Model mapped successfully: Bryan_full_cct_7_3x1_32_DynEmbed_TempScaleAttnFactor -> cct_DynEmbedTempScaleAttnFactor_7_3x1_32\n",
      "Model mapped successfully: Bryan_full_cct_6_3x1_32 -> cct_6_3x1_32\n",
      "Model mapped successfully: Bryan_full_cct_6_3x1_32_DynEmbed_TempScaleAttn -> cct_DynEmbedTempScaleAttn_6_3x1_32\n",
      "Model mapped successfully: Bryan_full_cct_7_3x1_32_c100_DynEmbed_TempScaleAttn -> cct_DynEmbedTempScaleAttn_7_3x1_32\n",
      "Model mapped successfully: Bryan_full_cct_2_3x2_32_c100_SETok_fixed -> cct_SETok_2_3x2_32_c100\n",
      "Model mapped successfully: Bryan_full_cct_2_3x2_32_c100_DynEmbed_TempScaleAttnFactor -> cct_DynEmbedTempScaleAttnFactor_2_3x2_32_c100\n",
      "Model mapped successfully: cct_2_3x2_32_simple_ensemble_c100_fixed -> cct_2_3x2_32_simple_ensemble_c100\n",
      "Model mapped successfully: Bryan_full_cct_6_3x1_32_c100_DynEmbed_TempScaleAttnFactor -> cct_DynEmbedTempScaleAttnFactor_6_3x1_32\n",
      "Model mapped successfully: Bryan_full_cct_6_3x1_32_DynEmbed_TempScaleAttnFactor -> cct_DynEmbedTempScaleAttnFactor_6_3x1_32\n",
      "Model mapped successfully: Bryan_full_cct_2_3x2_32_c100_DynEmbed_TempScaleAttn -> cct_DynEmbedTempScaleAttn_2_3x2_32_c100\n",
      "Model mapped successfully: Bryan_full_cct_2_3x2_32_c100 -> cct_2_3x2_32_c100\n",
      "Model mapped successfully: Bryan_full_cct_7_3x1_32_DynEmbed_TempScaleAttn -> cct_DynEmbedTempScaleAttn_7_3x1_32\n",
      "Model mapped successfully: full_cct_2_3x2_32_simple_ensemble -> cct_2_3x2_32_simple_ensemble\n",
      "Model mapped successfully: Bryan_full_cct_7_3x1_32_SETok_fixed -> cct_SETok_7_3x1_32\n",
      "Model mapped successfully: Bryan_full_cct_2_3x2_32_DynEmbed -> cct_DynEmbed_2_3x2_32\n",
      "Model mapped successfully: Bryan_full_cct_2_3x2_32_SETok_fixed -> cct_SETok_2_3x2_32\n",
      "Model mapped successfully: Bryan_full_cct_6_3x1_32_SETok_fixed -> cct_SETok_6_3x1_32\n",
      "Model mapped successfully: full_cct_2_3x2_32 -> cct_2_3x2_32\n",
      "Model mapped successfully: Bryan_full_cct_6_3x1_32_c100_SETok_fixed -> cct_SETok_6_3x1_32_c100\n",
      "Model mapped successfully: Bryan_full_cct_6_3x1_32_c100 -> cct_6_3x1_32\n",
      "Model mapped successfully: Bryan_full_cct_7_3x1_32_c100 -> cct_7_3x1_32_c100\n",
      "Model mapped successfully: Bryan_full_cct_6_3x1_32_c100_DynEmbed -> cct_DynEmbed_6_3x1_32_c100\n",
      "Model mapped successfully: Bryan_full_cct_6_3x1_32_c100_DynEmbed_TempScaleAttn -> cct_DynEmbedTempScaleAttn_6_3x1_32\n",
      "Loading checkpoint from result_final/Bryan_full_cct_6_3x1_32/model_best.pth.tar\n",
      "model loaded\n",
      "Model loaded successfully.\n",
      "torch.Size([1, 256, 256]) torch.Size([1, 256, 256])\n"
     ]
    }
   ],
   "source": [
    "def load_model(model_name, results_final_path, dataset):\n",
    "    num_classes = {'CIFAR-10': 10, 'CIFAR-100': 100}\n",
    "    \n",
    "    args_file = os.path.join(results_final_path, model_name, \"args.yaml\")\n",
    "    with open(args_file, \"r\") as file:\n",
    "        args = yaml.safe_load(file)\n",
    "        model_name1 = args.get(\"model\", None)\n",
    "\n",
    "    if model_name:\n",
    "        # Map the model_name to the initialization function\n",
    "        model_init_function = getattr(cct, model_name1, None)\n",
    "        if model_init_function:\n",
    "            model = model_init_function(\n",
    "                pretrained=False,\n",
    "                progress=False,\n",
    "                img_size=args.get(\"img_size\", 32),\n",
    "                positional_embedding=\"learnable\",\n",
    "                num_classes=args.get(\"num_classes\", num_classes[dataset]),\n",
    "            )\n",
    "    \n",
    "    checkpoint_path = os.path.join(results_final_path, model_name, \"model_best.pth.tar\")\n",
    "    \n",
    "    checkpoint = torch.load(checkpoint_path, map_location=device)\n",
    "    if \"state_dict\" in checkpoint:\n",
    "        model.load_state_dict(checkpoint[\"state_dict\"])\n",
    "    else:\n",
    "        model.load_state_dict(checkpoint)\n",
    "        \n",
    "    model.to(device)\n",
    "    model.eval()\n",
    "    return model\n",
    "\n",
    "def attnmap(model_name, image):\n",
    "    return attnmapgradio.gen_maps(model_name, image)\n",
    "\n",
    "\n",
    "# Function to predict the class of an image\n",
    "def predict(image, model_name, dataset):\n",
    "    dataset_labels = {'CIFAR-10': c10_labels, 'CIFAR-100': c100_labels}[dataset]\n",
    "    \n",
    "    model = load_model(model_name, results_final_path, dataset)\n",
    "    inp = transforms.ToTensor()(image).unsqueeze(0).to(device)\n",
    "    \n",
    "    # Resize image to 32x32\n",
    "    inp = torch.nn.functional.interpolate(inp, size=32, mode='bilinear', align_corners=False) #<-- Added this line\n",
    "\n",
    "    with torch.no_grad():\n",
    "        output = model(inp)\n",
    "        output = torch.softmax(output, dim=1).flatten()\n",
    "        topk_values, topk_indices = torch.topk(output, 5)\n",
    "        predicted_classes = {dataset_labels[topk_indices[i]]: round(topk_values[i].item(), 2) for i in range(len(topk_indices))}\n",
    "    \n",
    "    return predicted_classes\n",
    "\n",
    "attn_models = [\"Bryan_full_cct_6_3x1_32\", \"Bryan_full_cct_7_3x1_32_c100\", \n",
    "               \"Bryan_full_cct_6_3x1_32_c100_DynEmbed\", \"Bryan_full_cct_7_3x1_32_DynEmbed_TempScaleAttn\"]\n",
    "\n",
    "\n",
    "def change_models(choice):\n",
    "    model_choices = {'CIFAR-10': c10_models, 'CIFAR-100': c100_models}\n",
    "    model_list = model_choices[choice]\n",
    "    return gr.Dropdown(model_list, value=model_list[0], interactive=True), gr.Image(interactive=True), gr.Button(interactive=True) \n",
    "\n",
    "\n",
    "with gr.Blocks() as demo:\n",
    "    with gr.Row():\n",
    "        \n",
    "        with gr.Column():\n",
    "            dataset_choice = gr.Radio([\"CIFAR-10\", \"CIFAR-100\"], label=\"Select a dataset:\")\n",
    "            model_choice = gr.Dropdown(label=\"Select a model:\", interactive=False)\n",
    "            image_choice = gr.Image(label=\"Input Image\", interactive=False)\n",
    "            submit_button = gr.Button(interactive=False)\n",
    "            dataset_choice.input(fn=change_models, inputs=dataset_choice, outputs=[model_choice, image_choice, submit_button])\n",
    "            \n",
    "        with gr.Column():\n",
    "            pred_labels = gr.Label(num_top_classes=5, label=\"Prediction\")\n",
    "            submit_button.click(predict, inputs=[image_choice, model_choice, dataset_choice], outputs=pred_labels)\n",
    "            attn_button = gr.Button(\"Show Attention Map\", interactive=True)\n",
    "            attention_map = gr.Image(label=\"Attention Map\")\n",
    "            attn_button.click(attnmap, inputs=[model_choice, image_choice], outputs=attention_map)\n",
    "\n",
    "\n",
    "print(f\"Take note that only the following models support attention maps: {attn_models}\")\n",
    "\n",
    "demo.launch()\n"
   ]
  },
  {
   "cell_type": "code",
   "execution_count": null,
   "metadata": {},
   "outputs": [],
   "source": []
  }
 ],
 "metadata": {
  "kernelspec": {
   "display_name": "Python 3 (ipykernel)",
   "language": "python",
   "name": "python3"
  },
  "language_info": {
   "codemirror_mode": {
    "name": "ipython",
    "version": 3
   },
   "file_extension": ".py",
   "mimetype": "text/x-python",
   "name": "python",
   "nbconvert_exporter": "python",
   "pygments_lexer": "ipython3",
   "version": "3.9.13"
  }
 },
 "nbformat": 4,
 "nbformat_minor": 5
}
